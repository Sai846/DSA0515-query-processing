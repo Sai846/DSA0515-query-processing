{
  "cells": [
    {
      "cell_type": "code",
      "source": [
        "import librosa\n",
        "import numpy as np\n",
        "import random\n",
        "\n",
        "# Function to Extract Audio Features\n",
        "def extract_audio_features(audio_path):\n",
        "    try:\n",
        "        # Load audio file\n",
        "        y, sr = librosa.load(audio_path, sr=None)\n",
        "\n",
        "        # Extract features\n",
        "        tempo, _ = librosa.beat.beat_track(y=y, sr=sr)\n",
        "        spectral_centroid = np.mean(librosa.feature.spectral_centroid(y=y, sr=sr))\n",
        "        energy = np.mean(librosa.feature.rms(y=y))\n",
        "\n",
        "        # Return the extracted features as a dictionary\n",
        "        return {\"tempo\": tempo, \"spectral_centroid\": spectral_centroid, \"energy\": energy}\n",
        "    except Exception as e:\n",
        "        print(f\"Error processing audio: {e}\")\n",
        "        return None\n",
        "\n",
        "# Function to Map Features to Moods\n",
        "def map_to_emotions(features):\n",
        "    # Define simple mapping rules for moods\n",
        "    if features[\"tempo\"] > 120 and features[\"energy\"] > 0.02:\n",
        "        return \"Energetic and Uplifting\"\n",
        "    elif features[\"tempo\"] < 90 and features[\"energy\"] < 0.01:\n",
        "        return \"Calm and Melancholic\"\n",
        "    elif features[\"spectral_centroid\"] > 2000:\n",
        "        return \"Bright and Joyful\"\n",
        "    else:\n",
        "        return \"Dark and Mysterious\"\n",
        "\n",
        "# Simulated Visual Art Generator\n",
        "def simulate_visual_art(mood):\n",
        "    # Randomly pick an art style for the given mood\n",
        "    art_styles = {\n",
        "        \"Energetic and Uplifting\": [\n",
        "            \"a vibrant abstract painting with splashes of red and yellow\",\n",
        "            \"a dynamic cityscape full of movement and energy\"\n",
        "        ],\n",
        "        \"Calm and Melancholic\": [\n",
        "            \"a peaceful seaside scene with muted blues and greys\",\n",
        "            \"a rainy evening in a quiet town\"\n",
        "        ],\n",
        "        \"Bright and Joyful\": [\n",
        "            \"a colorful garden in full bloom under a sunny sky\",\n",
        "            \"a cheerful carnival with bright lights and decorations\"\n",
        "        ],\n",
        "        \"Dark and Mysterious\": [\n",
        "            \"a shadowy forest under a moonlit sky\",\n",
        "            \"a surreal dreamscape with swirling dark tones\"\n",
        "        ]\n",
        "    }\n",
        "    return random.choice(art_styles[mood])\n",
        "\n",
        "# Main Function\n",
        "def music_mood_translator(audio_path):\n",
        "    # Extract audio features\n",
        "    features = extract_audio_features(audio_path)\n",
        "    if features is None:\n",
        "        return \"Error: Unable to process audio file.\"\n",
        "\n",
        "    # Map features to mood\n",
        "    mood = map_to_emotions(features)\n",
        "    print(f\"Identified Mood: {mood}\")\n",
        "\n",
        "    # Simulate generating visual art for the mood\n",
        "    art_description = simulate_visual_art(mood)\n",
        "    return f\"Generated Art: {art_description}\"\n",
        "\n",
        "# Example Usage\n",
        "audio_path = \"/content/Free-Beats--Instrumentals-PIANO-ii-BEATS-INSTRUMENTAL-2020.mp3\"  # Replace with your audio file path\n",
        "generated_art = music_mood_translator(audio_path)\n",
        "print(generated_art)\n"
      ],
      "metadata": {
        "colab": {
          "base_uri": "https://localhost:8080/"
        },
        "id": "uHfpDS_QmnGS",
        "outputId": "e0751a1a-8f3a-444a-e0e9-19a2b4df24ad"
      },
      "execution_count": 3,
      "outputs": [
        {
          "output_type": "stream",
          "name": "stdout",
          "text": [
            "Identified Mood: Dark and Mysterious\n",
            "Generated Art: a surreal dreamscape with swirling dark tones\n"
          ]
        }
      ]
    }
  ],
  "metadata": {
    "colab": {
      "name": "Welcome To Colab",
      "provenance": []
    },
    "kernelspec": {
      "display_name": "Python 3",
      "name": "python3"
    }
  },
  "nbformat": 4,
  "nbformat_minor": 0
}